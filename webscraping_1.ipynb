{
 "cells": [
  {
   "cell_type": "markdown",
   "id": "94b4869e-f029-4cec-98ee-5f134ba71578",
   "metadata": {},
   "source": [
    "### WEB SCRAPING"
   ]
  },
  {
   "cell_type": "code",
   "execution_count": null,
   "id": "444869cd-f974-4c89-90cc-0ffe2d35e2d1",
   "metadata": {},
   "outputs": [],
   "source": [
    "import requests\n",
    "from bs4 import BeautifulSoup\n",
    "import numpy as np \n",
    "import pandas as pd"
   ]
  },
  {
   "cell_type": "code",
   "execution_count": null,
   "id": "4e8ae289-05c6-4bb1-80f4-5423d5eaaf34",
   "metadata": {},
   "outputs": [],
   "source": [
    "review=[]\n",
    "trek_category=[]\n",
    "count=0\n",
    "\n",
    "for sayfa in range(1,4):\n",
    "    response=requests.get(f\"https://products.roadbikereview.com/brand/latest-bikes/road-bike/trek.html?pg={sayfa}\") # iterate all 4 pages in the main TREK list page\n",
    "    soup=BeautifulSoup(response.content,\"html.parser\")\n",
    "    for i in soup.find_all(\"a\",style=\"color:black !important;\"):    # find all links\n",
    "            sub_link=i[\"href\"]\n",
    "            sub_link_text=sub_link.split(\"trek/\")[1].split(\".html\")[0]\n",
    "            sub_re=requests.get(sub_link)\n",
    "            sub_soup=BeautifulSoup(sub_re.content,\"html.parser\")\n",
    "            print(sub_link)\n",
    "            \n",
    "            for sayfa in sub_soup.find_all(\"div\",class_=\"label\"):\n",
    "                \n",
    "                print(sayfa)\n",
    "                page=(sayfa.text.split(\"of\")[1].strip())\n",
    "                page=int(page)\n",
    "                \n",
    "                if page%10==0:\n",
    "                    for p in range(page/10):\n",
    "                        url=f\"https://products.roadbikereview.com/product/latest-bikes/road-bike/trek/1500.html?p={p+1}#reviews\"\n",
    "                        sub_re2=requests.get(url)\n",
    "                        sub_soup2=BeautifulSoup(sub_re2.content,\"html.parser\")\n",
    "                        for content in sub_soup2.findAll(\"div\",class_=\"user-review-desktop\"):\n",
    "                            if content:\n",
    "                                review.append(content.text)\n",
    "                                trek_category.append(sub_link_text)\n",
    "\n",
    "\n",
    "                else:\n",
    "                    # page2=page//10+1    \n",
    "                    for p in range(page//10+1):    \n",
    "                        url=f\"https://products.roadbikereview.com/product/latest-bikes/road-bike/trek/1500.html?p={p+1}#reviews\"\n",
    "                        sub_re2=requests.get(url)\n",
    "                        sub_soup2=BeautifulSoup(sub_re2.content,\"html.parser\")\n",
    "                        for content in sub_soup2.findAll(\"div\",class_=\"user-review-desktop\"):\n",
    "                            if content:\n",
    "                                review.append(content.text)\n",
    "                                trek_category.append(sub_link_text)\n",
    "                print(sub_link_text)\n",
    "        "
   ]
  }
 ],
 "metadata": {
  "kernelspec": {
   "display_name": "Python 3 (ipykernel)",
   "language": "python",
   "name": "python3"
  },
  "language_info": {
   "codemirror_mode": {
    "name": "ipython",
    "version": 3
   },
   "file_extension": ".py",
   "mimetype": "text/x-python",
   "name": "python",
   "nbconvert_exporter": "python",
   "pygments_lexer": "ipython3",
   "version": "3.9.12"
  }
 },
 "nbformat": 4,
 "nbformat_minor": 5
}
